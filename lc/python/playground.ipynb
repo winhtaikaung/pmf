{
 "cells": [
  {
   "cell_type": "code",
   "execution_count": 23,
   "metadata": {},
   "outputs": [
    {
     "name": "stdout",
     "output_type": "stream",
     "text": [
      "3\n"
     ]
    }
   ],
   "source": [
    "# pwwkew\n",
    "# {\n",
    "#     \"p\":\n",
    "#     \"w\":\n",
    "#     \"w\":\n",
    "#     \"k\":\n",
    "#     \"e\":\n",
    "#     \"w\":\n",
    "# }\n",
    "kv = {}\n",
    "charlist= [x for x in \"pwwkew\"]\n",
    "start = 0\n",
    "max_length = 0\n",
    "\n",
    "for k,v in enumerate(charlist):\n",
    "    if v in kv and kv[v] >= start:\n",
    "        start = kv[v]+1\n",
    "    kv[v] = k\n",
    "    max_length = max(max_length,k-start+1)\n",
    "\n",
    "print(max_length)"
   ]
  },
  {
   "cell_type": "code",
   "execution_count": 17,
   "metadata": {},
   "outputs": [
    {
     "name": "stdout",
     "output_type": "stream",
     "text": [
      "3\n"
     ]
    }
   ],
   "source": [
    "def lengthOfLongestSubstring(s: str) -> int:\n",
    "    # Initialize a dictionary to store the last index of each character seen\n",
    "    char_index = {}\n",
    "    # Initialize pointers for the start and end of the substring\n",
    "    start = 0\n",
    "    max_length = 0\n",
    "    \n",
    "    for end,v in enumerate([x for x in s]):\n",
    "        # If the current character is in the dictionary and its index is greater than or equal to the start pointer,\n",
    "        # update the start pointer to the index after the last occurrence of the character\n",
    "        if v in char_index and char_index[v] >= start:\n",
    "            start = char_index[v] + 1\n",
    "        # Update the index of the current character in the dictionary\n",
    "        char_index[v] = end\n",
    "        # Update the maximum length if necessary\n",
    "        max_length = max(max_length, end - start + 1)\n",
    "    \n",
    "    return max_length\n",
    "\n",
    "# Example usage:\n",
    "s = \"abcabcbb\"\n",
    "print(lengthOfLongestSubstring(s))  # Output: 3 (for \"abc\")"
   ]
  },
  {
   "cell_type": "code",
   "execution_count": null,
   "metadata": {},
   "outputs": [],
   "source": []
  }
 ],
 "metadata": {
  "kernelspec": {
   "display_name": "Python 3",
   "language": "python",
   "name": "python3"
  },
  "language_info": {
   "codemirror_mode": {
    "name": "ipython",
    "version": 3
   },
   "file_extension": ".py",
   "mimetype": "text/x-python",
   "name": "python",
   "nbconvert_exporter": "python",
   "pygments_lexer": "ipython3",
   "version": "3.10.12"
  }
 },
 "nbformat": 4,
 "nbformat_minor": 2
}
