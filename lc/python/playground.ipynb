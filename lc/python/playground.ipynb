{
 "cells": [
  {
   "cell_type": "code",
   "execution_count": 1,
   "metadata": {},
   "outputs": [
    {
     "data": {
      "text/plain": [
       "542"
      ]
     },
     "execution_count": 1,
     "metadata": {},
     "output_type": "execute_result"
    }
   ],
   "source": [
    "class ListNode:\n",
    "    def __init__(self, val=0, next=None):\n",
    "        self.val = val\n",
    "        self.next = next\n",
    "\n",
    "\n",
    "def reverse_n_int(ll,init_val=[],num=0):\n",
    "    \n",
    "    if ll.next == None:\n",
    "        init_val.append(ll.val)\n",
    "        init_val.reverse()\n",
    "        num = int(''.join([str(x) for x in init_val ]))\n",
    "        return num\n",
    "        \n",
    "    else: \n",
    "        init_val.append(ll.val)\n",
    "        return reverse_n_int(ll.next,init_val,num)\n",
    "\n",
    "def build_ll_from_int(num):\n",
    "    if len(num) == 0:\n",
    "        return None\n",
    "    ln = ListNode(num[0])\n",
    "    ln.next = build_ll_from_int(num[1:])\n",
    "    return ln\n",
    "    \n",
    "    \n",
    "\n",
    "# ll = build_ll_from_int([7, 0, 8])\n",
    "# ll\n",
    "# print([int(x) for x in str(123)])\n",
    "\n",
    "\n",
    "# val1 = reverse_n_int(ListNode(2, ListNode(4, ListNode(3))))\n",
    "val2 = reverse_n_int(ListNode(4, ListNode(6, ListNode(5))),[])\n",
    "\n",
    "reverse_n_int(ListNode(2, ListNode(4, ListNode(5))),[])\n",
    "\n",
    "\n",
    "\n",
    "\n",
    "\n",
    "\n"
   ]
  },
  {
   "cell_type": "code",
   "execution_count": null,
   "metadata": {},
   "outputs": [],
   "source": []
  }
 ],
 "metadata": {
  "kernelspec": {
   "display_name": "Python 3",
   "language": "python",
   "name": "python3"
  },
  "language_info": {
   "codemirror_mode": {
    "name": "ipython",
    "version": 3
   },
   "file_extension": ".py",
   "mimetype": "text/x-python",
   "name": "python",
   "nbconvert_exporter": "python",
   "pygments_lexer": "ipython3",
   "version": "3.10.12"
  }
 },
 "nbformat": 4,
 "nbformat_minor": 2
}
