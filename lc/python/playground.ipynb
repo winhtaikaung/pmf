{
 "cells": [
  {
   "cell_type": "code",
   "execution_count": null,
   "metadata": {},
   "outputs": [],
   "source": [
    "a1 = [1, 2]\n",
    "a2 = [3,4]\n",
    "\n",
    "a3 = a1+a2\n",
    "\n",
    "a3.sort()\n",
    "n = len(a3) \n",
    "print(a3)\n",
    "result = 0.0\n",
    "if(n % 2 != 0):\n",
    "    print(\"odd\")\n",
    "    print(\"Median\",a3[int(n / 2)])\n",
    "    result = a3[int(n / 2)]\n",
    "else:\n",
    "    print(\"even\")\n",
    "    medianPair1 = a3[int(n/2)-1]\n",
    "    medianPair2 = (a3[(int(n/2)+1)-1])\n",
    "    result=(medianPair1 + medianPair2)/2\n",
    "\n",
    "result\n"
   ]
  },
  {
   "cell_type": "code",
   "execution_count": null,
   "metadata": {},
   "outputs": [],
   "source": [
    "def lengthOfLongestSubstring(s: str) -> int:\n",
    "    # Initialize a dictionary to store the last index of each character seen\n",
    "    char_index = {}\n",
    "    # Initialize pointers for the start and end of the substring\n",
    "    start = 0\n",
    "    max_length = 0\n",
    "    \n",
    "    for end,v in enumerate([x for x in s]):\n",
    "        # If the current character is in the dictionary and its index is greater than or equal to the start pointer,\n",
    "        # update the start pointer to the index after the last occurrence of the character\n",
    "        if v in char_index and char_index[v] >= start:\n",
    "            start = char_index[v] + 1\n",
    "        # Update the index of the current character in the dictionary\n",
    "        char_index[v] = end\n",
    "        # Update the maximum length if necessary\n",
    "        max_length = max(max_length, end - start + 1)\n",
    "    \n",
    "    return max_length\n",
    "\n",
    "# Example usage:\n",
    "s = \"abcabcbb\"\n",
    "print(lengthOfLongestSubstring(s))  # Output: 3 (for \"abc\")"
   ]
  },
  {
   "cell_type": "code",
   "execution_count": 3,
   "metadata": {},
   "outputs": [
    {
     "name": "stdout",
     "output_type": "stream",
     "text": [
      "1\n"
     ]
    }
   ],
   "source": [
    "def getMedian(ar1, ar2, n, m):\n",
    " \n",
    "    i = 0  # Current index of input array ar1[]\n",
    "    j = 0  # Current index of input array ar2[]\n",
    "    m1, m2 = -1, -1\n",
    "    for count in range(((n + m) // 2) + 1):\n",
    "        if(i != n and j != m):\n",
    "            if ar1[i] > ar2[j]:\n",
    "                m1 = ar2[j]\n",
    "                j += 1\n",
    "            else:\n",
    "                m1 = ar1[i]\n",
    "                i += 1\n",
    "        elif(i < n):\n",
    "            m1 = ar1[i]\n",
    "            i += 1\n",
    "            # for case when j<m,\n",
    "        else:\n",
    "            m1 = ar2[j]\n",
    "            j += 1\n",
    "           # return m1 if it's length odd else return (m1+m2)//2\n",
    "    return m1 if (n + m) % 2 == 1 else (m1 + m2) // 2\n",
    " \n",
    " \n",
    "# Driver code\n",
    "ar1 = [1,2]\n",
    "ar2 = [3,4]\n",
    " \n",
    "n1 = len(ar1)\n",
    "n2 = len(ar2)\n",
    "print(getMedian(ar1, ar2, n1, n2))\n",
    "\n"
   ]
  },
  {
   "cell_type": "code",
   "execution_count": null,
   "metadata": {},
   "outputs": [],
   "source": []
  }
 ],
 "metadata": {
  "kernelspec": {
   "display_name": "Python 3",
   "language": "python",
   "name": "python3"
  },
  "language_info": {
   "codemirror_mode": {
    "name": "ipython",
    "version": 3
   },
   "file_extension": ".py",
   "mimetype": "text/x-python",
   "name": "python",
   "nbconvert_exporter": "python",
   "pygments_lexer": "ipython3",
   "version": "3.10.12"
  }
 },
 "nbformat": 4,
 "nbformat_minor": 2
}
